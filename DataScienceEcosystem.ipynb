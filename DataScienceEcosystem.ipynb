{
 "cells": [
  {
   "cell_type": "markdown",
   "id": "8a23a6c5",
   "metadata": {},
   "source": [
    "# Assignment"
   ]
  },
  {
   "cell_type": "markdown",
   "id": "8cebe249",
   "metadata": {},
   "source": [
    "# Data Science Tools and Ecosystem"
   ]
  },
  {
   "cell_type": "markdown",
   "id": "eec1d89e",
   "metadata": {},
   "source": [
    "In this notebook, Data Science Tools and Ecosystem are summarized.\n"
   ]
  },
  {
   "cell_type": "markdown",
   "id": "537c511c",
   "metadata": {},
   "source": [
    "<b> Objectives:</b>\n",
    "* List popular languages for Data Science\n",
    "* List commonly used libraries for Data Science\n",
    "* Create table to list commonly used tools for Data Science\n",
    "* List examples of arithmetic expressions\n",
    "* Convert hour into minute\n"
   ]
  },
  {
   "cell_type": "markdown",
   "id": "6e2efe86",
   "metadata": {},
   "source": [
    "Some of the popular languages that Data Scientists use are:\n",
    "<ol>\n",
    "<li> Python</li>\n",
    "<li> R </li>\n",
    "<li> Julia </li>\n",
    "<li> Swift </li>\n",
    "</ol>"
   ]
  },
  {
   "cell_type": "markdown",
   "id": "2a2701ef",
   "metadata": {},
   "source": [
    "Some of the commonly used libraries used by Data Scientists include:\n",
    "<ol>\n",
    "<li> TensorFlow</li>\n",
    "<li> NumPy </li>\n",
    "<li> SciPy </li>\n",
    "<li> Matplotlib </li>\n",
    "</ol>\n",
    "\n"
   ]
  },
  {
   "cell_type": "markdown",
   "id": "7b501263",
   "metadata": {},
   "source": [
    "| Data Science Tools |\n",
    "|:------------------:|\n",
    "|Apache Spark        |\n",
    "|IBM SPSS            |\n",
    "|Jupyter Notebook    |"
   ]
  },
  {
   "cell_type": "markdown",
   "id": "70bae1d1",
   "metadata": {},
   "source": [
    "### Below are a few examples of evaluating arithmetic expressions in Python:\n",
    "* <code>((3+2)*3)/(12+8)</code>\n",
    "* <code>(2+3)*(2-3)</code>\n",
    "* <code>((10*5)+100)%2</code>"
   ]
  },
  {
   "cell_type": "code",
   "execution_count": 5,
   "id": "b0190eaf",
   "metadata": {},
   "outputs": [
    {
     "data": {
      "text/plain": [
       "17"
      ]
     },
     "execution_count": 5,
     "metadata": {},
     "output_type": "execute_result"
    }
   ],
   "source": [
    "#This a simple arithmetic expression to mutiply then add integer\n",
    "(3*4)+5"
   ]
  },
  {
   "cell_type": "code",
   "execution_count": 13,
   "id": "4bf4422f",
   "metadata": {},
   "outputs": [
    {
     "name": "stdout",
     "output_type": "stream",
     "text": [
      "3.3333333333333335 hours\n"
     ]
    }
   ],
   "source": [
    "#This will convert 200 minutes to hours by diving by 60\n",
    "hr = 200/60\n",
    "print(str(hr) + \" hours\")"
   ]
  },
  {
   "cell_type": "markdown",
   "id": "6a205d1f",
   "metadata": {},
   "source": [
    "## Author\n",
    "Lakshi VS"
   ]
  }
 ],
 "metadata": {
  "kernelspec": {
   "display_name": "Python 3 (ipykernel)",
   "language": "python",
   "name": "python3"
  },
  "language_info": {
   "codemirror_mode": {
    "name": "ipython",
    "version": 3
   },
   "file_extension": ".py",
   "mimetype": "text/x-python",
   "name": "python",
   "nbconvert_exporter": "python",
   "pygments_lexer": "ipython3",
   "version": "3.11.5"
  }
 },
 "nbformat": 4,
 "nbformat_minor": 5
}
